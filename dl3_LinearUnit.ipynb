{
 "cells": [
  {
   "cell_type": "markdown",
   "metadata": {},
   "source": [
    "## $$不用框架入门进阶深度学习(3)-线性单元、梯度下降与回归任务$$\n",
    "### 一、实现线性单元"
   ]
  },
  {
   "cell_type": "code",
   "execution_count": 5,
   "metadata": {},
   "outputs": [],
   "source": [
    "import numpy as np\n",
    "import matplotlib.pyplot as plt\n",
    "%matplotlib inline"
   ]
  },
  {
   "cell_type": "code",
   "execution_count": 33,
   "metadata": {},
   "outputs": [],
   "source": [
    "class Perceptron(object):\n",
    "    def __init__(self, input_feature_num, activation=None):\n",
    "        self.activation = activation if activation else self.sign\n",
    "        self.w = [0.0] * input_feature_num\n",
    "        self.b = 0.0\n",
    "\n",
    "    def predict(self, x):\n",
    "        '''\n",
    "        预测输出函数:\n",
    "        y_hat = f(wx + b)\n",
    "        '''\n",
    "        return self.activation(\n",
    "            np.dot(self.w, x) + self.b)\n",
    "    \n",
    "    def sign(self, z):\n",
    "        '''\n",
    "        阶跃激活函数:\n",
    "        sign(z) = 1 if z > 0\n",
    "        sign(z) = 0 if z <= 0\n",
    "        '''\n",
    "        return int(z>0)\n",
    "        \n",
    "    def fit(self, x_train, y_train, iteration=10, learning_rate=0.1):\n",
    "        # 训练函数\n",
    "        for _ in range(iteration):\n",
    "            for x, y in zip(x_train, y_train):\n",
    "                y_hat = self.predict(x)\n",
    "                self._update_weights(x, y, y_hat, learning_rate)\n",
    "            print(self)\n",
    "    \n",
    "    def _update_weights(self, x, y, y_hat, learning_rate):\n",
    "        # 权重更新, 对照公式查看\n",
    "        delta = y - y_hat\n",
    "        self.w = np.add(self.w,\n",
    "                        np.multiply(learning_rate * delta, x))\n",
    "        self.b += learning_rate * delta\n",
    "    \n",
    "    def __str__(self):\n",
    "        return 'weights: {}\\tbias: {}'.format(self.w, self.b)"
   ]
  },
  {
   "cell_type": "code",
   "execution_count": 34,
   "metadata": {},
   "outputs": [],
   "source": [
    "class LinearUnit(Perceptron):\n",
    "    def __init__(self, input_feature_num, activation=None):\n",
    "        self.activation = activation if activation else self.f\n",
    "        Perceptron.__init__(self, input_feature_num, self.activation)\n",
    "\n",
    "    def f(self, x):\n",
    "        return x"
   ]
  },
  {
   "cell_type": "markdown",
   "metadata": {},
   "source": [
    "### 二、数据准备"
   ]
  },
  {
   "cell_type": "code",
   "execution_count": 74,
   "metadata": {},
   "outputs": [],
   "source": [
    "def get_training_dataset():\n",
    "    '''\n",
    "    捏造5个人的工作年限与对应的收入数据\n",
    "    '''\n",
    "    # 输入列表，每一项表示工作年限\n",
    "    x_train = [[5], [3], [8], [1.4], [10.1]]\n",
    "    # 期望的输出列表，月薪，注意要与输入一一对应\n",
    "    y_train = [55000, 23000, 76000, 18000, 114000]\n",
    "    return x_train, y_train\n",
    "\n",
    "def get_test_dataset():\n",
    "    '''\n",
    "    捏造5个人的工作年限，用模型预测结果\n",
    "    '''\n",
    "    # 输入列表，每一项表示工作年限\n",
    "    x_test = [[1], [2], [4.3], [6.7], [9]]\n",
    "    return x_test\n",
    "    "
   ]
  },
  {
   "cell_type": "markdown",
   "metadata": {},
   "source": [
    "### 三、模型训练-小试调参"
   ]
  },
  {
   "cell_type": "code",
   "execution_count": 75,
   "metadata": {},
   "outputs": [
    {
     "name": "stdout",
     "output_type": "stream",
     "text": [
      "weights: [-43264.9316]\tbias: -6499.715999999998\n",
      "weights: [-748.21557461]\tbias: -7572.491525913667\n",
      "weights: [ 6269.1513987]\tbias: -7749.55269735544\n",
      "weights: [ 7427.36501069]\tbias: -7778.776572877447\n",
      "weights: [ 7618.52770407]\tbias: -7783.599961842798\n",
      "weights: [ 7650.07903015]\tbias: -7784.396060262173\n",
      "weights: [ 7655.28656389]\tbias: -7784.527455987858\n",
      "weights: [ 7656.14606526]\tbias: -7784.549142799826\n",
      "weights: [ 7656.28792561]\tbias: -7784.552722199454\n",
      "weights: [ 7656.31133961]\tbias: -7784.553312977943\n"
     ]
    },
    {
     "data": {
      "text/plain": [
       "[<matplotlib.lines.Line2D at 0x7f82fd980e48>]"
      ]
     },
     "execution_count": 75,
     "metadata": {},
     "output_type": "execute_result"
    },
    {
     "data": {
      "image/png": "[encoded data removed]",
      "text/plain": [
       "<matplotlib.figure.Figure at 0x7f82fd980d30>"
      ]
     },
     "metadata": {},
     "output_type": "display_data"
    }
   ],
   "source": [
    "'''\n",
    "学习率为0.1，收敛不到最优\n",
    "'''\n",
    "x_train, y_train = get_training_dataset()\n",
    "lu = LinearUnit(len(x_train[0]))\n",
    "lu.fit(x_train, y_train, iteration=10, learning_rate=0.1)\n",
    "\n",
    "plt.scatter(x_train, y_train)\n",
    "x_points = np.linspace(1, 11, 10)\n",
    "y_ = (lu.w[0] * x_points + lu.b)\n",
    "plt.plot(x_points, y_)"
   ]
  },
  {
   "cell_type": "code",
   "execution_count": 76,
   "metadata": {},
   "outputs": [
    {
     "name": "stdout",
     "output_type": "stream",
     "text": [
      "weights: [ 11240.88451468]\tbias: 1652.6044668000002\n",
      "weights: [ 11172.36246933]\tbias: 1548.4231937327545\n",
      "weights: [ 11181.77338601]\tbias: 1457.6193688248154\n",
      "weights: [ 11190.52576246]\tbias: 1367.958769494091\n",
      "weights: [ 11199.16365052]\tbias: 1279.5091539946984\n",
      "weights: [ 11207.68490221]\tbias: 1192.2535999327847\n",
      "weights: [ 11216.0911176]\tbias: 1106.1759915016578\n",
      "weights: [ 11224.38384951]\tbias: 1021.2604264670302\n",
      "weights: [ 11232.56462995]\tbias: 937.4912173015192\n",
      "weights: [ 11240.63497026]\tbias: 854.852888258384\n"
     ]
    },
    {
     "data": {
      "text/plain": [
       "[<matplotlib.lines.Line2D at 0x7f82fd841ef0>]"
      ]
     },
     "execution_count": 76,
     "metadata": {},
     "output_type": "execute_result"
    },
    {
     "data": {
      "image/png": "[encoded data removed]",
      "text/plain": [
       "<matplotlib.figure.Figure at 0x7f82fd5ffd30>"
      ]
     },
     "metadata": {},
     "output_type": "display_data"
    }
   ],
   "source": [
    "'''\n",
    "学习率为0.01,收敛效果远远好于学习率为0.1\n",
    "'''\n",
    "lu = LinearUnit(len(x_train[0]))\n",
    "lu.fit(x_train, y_train, iteration=10, learning_rate=0.01)\n",
    "\n",
    "plt.scatter(x_train, y_train)\n",
    "x_points = np.linspace(1, 11, 10)\n",
    "y_ = (lu.w[0] * x_points + lu.b)\n",
    "plt.plot(x_points, y_)"
   ]
  },
  {
   "cell_type": "markdown",
   "metadata": {},
   "source": [
    "### 四、预测工资收入"
   ]
  },
  {
   "cell_type": "code",
   "execution_count": 77,
   "metadata": {},
   "outputs": [
    {
     "name": "stdout",
     "output_type": "stream",
     "text": [
      "[[1], [2], [4.3], [6.7], [9]]\n"
     ]
    }
   ],
   "source": [
    "x_test = get_test_dataset()\n",
    "print(x_test)"
   ]
  },
  {
   "cell_type": "code",
   "execution_count": 78,
   "metadata": {},
   "outputs": [
    {
     "name": "stdout",
     "output_type": "stream",
     "text": [
      "预测工作[1]年的AI工程师\t月薪12095.487858520604\n",
      "预测工作[2]年的AI工程师\t月薪23336.122828782827\n",
      "预测工作[4.3]年的AI工程师\t月薪49189.58326038593\n",
      "预测工作[6.7]年的AI工程师\t月薪76167.10718901527\n",
      "预测工作[9]年的AI工程师\t月薪102020.56762061837\n"
     ]
    }
   ],
   "source": [
    "prediction = []\n",
    "for t in x_test:\n",
    "    prediction.append(lu.predict(t))\n",
    "    print('预测工作{}年的AI工程师\\t月薪{}'.format(t, prediction[-1]))"
   ]
  },
  {
   "cell_type": "code",
   "execution_count": null,
   "metadata": {},
   "outputs": [],
   "source": []
  }
 ],
 "metadata": {
  "kernelspec": {
   "display_name": "Python 3",
   "language": "python",
   "name": "python3"
  },
  "language_info": {
   "codemirror_mode": {
    "name": "ipython",
    "version": 3
   },
   "file_extension": ".py",
   "mimetype": "text/x-python",
   "name": "python",
   "nbconvert_exporter": "python",
   "pygments_lexer": "ipython3",
   "version": "3.6.4"
  }
 },
 "nbformat": 4,
 "nbformat_minor": 2
}
