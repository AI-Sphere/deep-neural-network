{
 "cells": [
  {
   "cell_type": "markdown",
   "metadata": {},
   "source": [
    "## $$不用框架入门进阶深度学习(3)-线性单元、梯度下降与回归任务$$\n",
    "### 一、实现线性单元"
   ]
  },
  {
   "cell_type": "code",
   "execution_count": 5,
   "metadata": {},
   "outputs": [],
   "source": [
    "import numpy as np\n",
    "import matplotlib.pyplot as plt\n",
    "%matplotlib inline"
   ]
  },
  {
   "cell_type": "code",
   "execution_count": 33,
   "metadata": {},
   "outputs": [],
   "source": [
    "class Perceptron(object):\n",
    "    def __init__(self, input_feature_num, activation=None):\n",
    "        self.activation = activation if activation else self.sign\n",
    "        self.w = [0.0] * input_feature_num\n",
    "        self.b = 0.0\n",
    "\n",
    "    def predict(self, x):\n",
    "        '''\n",
    "        预测输出函数:\n",
    "        y_hat = f(wx + b)\n",
    "        '''\n",
    "        return self.activation(\n",
    "            np.dot(self.w, x) + self.b)\n",
    "    \n",
    "    def sign(self, z):\n",
    "        '''\n",
    "        阶跃激活函数:\n",
    "        sign(z) = 1 if z > 0\n",
    "        sign(z) = 0 if z <= 0\n",
    "        '''\n",
    "        return int(z>0)\n",
    "        \n",
    "    def fit(self, x_train, y_train, iteration=10, learning_rate=0.1):\n",
    "        # 训练函数\n",
    "        for _ in range(iteration):\n",
    "            for x, y in zip(x_train, y_train):\n",
    "                y_hat = self.predict(x)\n",
    "                self._update_weights(x, y, y_hat, learning_rate)\n",
    "            print(self)\n",
    "    \n",
    "    def _update_weights(self, x, y, y_hat, learning_rate):\n",
    "        # 权重更新, 对照公式查看\n",
    "        delta = y - y_hat\n",
    "        self.w = np.add(self.w,\n",
    "                        np.multiply(learning_rate * delta, x))\n",
    "        self.b += learning_rate * delta\n",
    "    \n",
    "    def __str__(self):\n",
    "        return 'weights: {}\\tbias: {}'.format(self.w, self.b)"
   ]
  },
  {
   "cell_type": "code",
   "execution_count": 34,
   "metadata": {},
   "outputs": [],
   "source": [
    "class LinearUnit(Perceptron):\n",
    "    def __init__(self, input_feature_num, activation=None):\n",
    "        self.activation = activation if activation else self.f\n",
    "        Perceptron.__init__(self, input_feature_num, self.activation)\n",
    "\n",
    "    def f(self, x):\n",
    "        return x"
   ]
  },
  {
   "cell_type": "markdown",
   "metadata": {},
   "source": [
    "### 二、数据准备"
   ]
  },
  {
   "cell_type": "code",
   "execution_count": 66,
   "metadata": {},
   "outputs": [],
   "source": [
    "def get_training_dataset():\n",
    "    '''\n",
    "    捏造5个人的工作年限与对应的收入数据\n",
    "    '''\n",
    "    # 输入列表，每一项表示工作年限\n",
    "    x_train = [[5], [3], [8], [1.4], [10.1]]\n",
    "    # 期望的输出列表，月薪，注意要与输入一一对应\n",
    "    y_train = [5500, 2300, 7600, 1800, 11400]\n",
    "    return x_train, y_train\n",
    "\n",
    "def get_test_dataset():\n",
    "    '''\n",
    "    捏造5个人的工作年限，用模型预测结果\n",
    "    '''\n",
    "    # 输入列表，每一项表示工作年限\n",
    "    x_test = [[1], [2], [4.3], [6.7], [9]]\n",
    "    return x_test\n",
    "    "
   ]
  },
  {
   "cell_type": "markdown",
   "metadata": {},
   "source": [
    "### 三、模型训练-小试调参"
   ]
  },
  {
   "cell_type": "code",
   "execution_count": 61,
   "metadata": {},
   "outputs": [
    {
     "name": "stdout",
     "output_type": "stream",
     "text": [
      "weights: [-4326.49316]\tbias: -649.9716000000001\n",
      "weights: [-74.82155746]\tbias: -757.2491525913629\n",
      "weights: [ 626.91513987]\tbias: -774.9552697355447\n",
      "weights: [ 742.73650107]\tbias: -777.8776572877448\n",
      "weights: [ 761.85277041]\tbias: -778.359996184279\n",
      "weights: [ 765.00790301]\tbias: -778.4396060262171\n",
      "weights: [ 765.52865639]\tbias: -778.4527455987852\n",
      "weights: [ 765.61460653]\tbias: -778.4549142799826\n",
      "weights: [ 765.62879256]\tbias: -778.4552722199463\n",
      "weights: [ 765.63113396]\tbias: -778.4553312977931\n"
     ]
    },
    {
     "data": {
      "text/plain": [
       "[<matplotlib.lines.Line2D at 0x7f82fdc3f630>]"
      ]
     },
     "execution_count": 61,
     "metadata": {},
     "output_type": "execute_result"
    },
    {
     "data": {
      "image/png": "[encoded data removed]",
      "text/plain": [
       "<matplotlib.figure.Figure at 0x7f82fd8eb278>"
      ]
     },
     "metadata": {},
     "output_type": "display_data"
    }
   ],
   "source": [
    "'''\n",
    "学习率为0.1，收敛不到最优\n",
    "'''\n",
    "x_train, y_train = get_training_dataset()\n",
    "lu = LinearUnit(len(x_train[0]))\n",
    "lu.fit(x_train, y_train, iteration=10, learning_rate=0.1)\n",
    "\n",
    "plt.scatter(x_train, y_train)\n",
    "x_points = np.linspace(1, 11, 10)\n",
    "y_ = (lu.w[0] * x_points + lu.b)\n",
    "plt.plot(x_points, y_)"
   ]
  },
  {
   "cell_type": "code",
   "execution_count": 71,
   "metadata": {},
   "outputs": [
    {
     "name": "stdout",
     "output_type": "stream",
     "text": [
      "weights: [ 1124.08845147]\tbias: 165.26044668\n",
      "weights: [ 1117.23624693]\tbias: 154.8423193732754\n",
      "weights: [ 1118.1773386]\tbias: 145.76193688248156\n",
      "weights: [ 1119.05257625]\tbias: 136.79587694940918\n",
      "weights: [ 1119.91636505]\tbias: 127.95091539946986\n",
      "weights: [ 1120.76849022]\tbias: 119.22535999327847\n",
      "weights: [ 1121.60911176]\tbias: 110.61759915016577\n",
      "weights: [ 1122.43838495]\tbias: 102.12604264670297\n",
      "weights: [ 1123.25646299]\tbias: 93.74912173015186\n",
      "weights: [ 1124.06349703]\tbias: 85.48528882583837\n"
     ]
    },
    {
     "data": {
      "text/plain": [
       "[<matplotlib.lines.Line2D at 0x7f82fdc6c9b0>]"
      ]
     },
     "execution_count": 71,
     "metadata": {},
     "output_type": "execute_result"
    },
    {
     "data": {
      "image/png": "[encoded data removed]",
      "text/plain": [
       "<matplotlib.figure.Figure at 0x7f82fdc6cb70>"
      ]
     },
     "metadata": {},
     "output_type": "display_data"
    }
   ],
   "source": [
    "'''\n",
    "学习率为0.01,收敛效果远远好于学习率为0.1\n",
    "'''\n",
    "lu = LinearUnit(len(x_train[0]))\n",
    "lu.fit(x_train, y_train, iteration=10, learning_rate=0.01)\n",
    "\n",
    "plt.scatter(x_train, y_train)\n",
    "x_points = np.linspace(1, 11, 10)\n",
    "y_ = (lu.w[0] * x_points + lu.b)\n",
    "plt.plot(x_points, y_)"
   ]
  },
  {
   "cell_type": "markdown",
   "metadata": {},
   "source": [
    "### 四、预测工资收入"
   ]
  },
  {
   "cell_type": "code",
   "execution_count": 72,
   "metadata": {},
   "outputs": [
    {
     "name": "stdout",
     "output_type": "stream",
     "text": [
      "[[1], [2], [4.3], [6.7], [9]]\n"
     ]
    }
   ],
   "source": [
    "x_test = get_test_dataset()\n",
    "print(x_test)"
   ]
  },
  {
   "cell_type": "code",
   "execution_count": 73,
   "metadata": {},
   "outputs": [
    {
     "name": "stdout",
     "output_type": "stream",
     "text": [
      "预测工作[1]年的AI工程师\t月薪1209.5487858520605\n",
      "预测工作[2]年的AI工程师\t月薪2333.6122828782827\n",
      "预测工作[4.3]年的AI工程师\t月薪4918.958326038593\n",
      "预测工作[6.7]年的AI工程师\t月薪7616.710718901527\n",
      "预测工作[9]年的AI工程师\t月薪10202.056762061839\n"
     ]
    }
   ],
   "source": [
    "prediction = []\n",
    "for t in x_test:\n",
    "    prediction.append(lu.predict(t))\n",
    "    print('预测工作{}年的AI工程师\\t月薪{}'.format(t, prediction[-1]))"
   ]
  },
  {
   "cell_type": "code",
   "execution_count": null,
   "metadata": {},
   "outputs": [],
   "source": []
  }
 ],
 "metadata": {
  "kernelspec": {
   "display_name": "Python 3",
   "language": "python",
   "name": "python3"
  },
  "language_info": {
   "codemirror_mode": {
    "name": "ipython",
    "version": 3
   },
   "file_extension": ".py",
   "mimetype": "text/x-python",
   "name": "python",
   "nbconvert_exporter": "python",
   "pygments_lexer": "ipython3",
   "version": "3.6.4"
  }
 },
 "nbformat": 4,
 "nbformat_minor": 2
}
