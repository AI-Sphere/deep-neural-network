{
 "cells": [
  {
   "cell_type": "markdown",
   "metadata": {},
   "source": [
    "## $$不用框架入门进阶深度学习(1)-手写感知器$$\n",
    "### 一、And 感知机\n",
    "\n",
    "And真值表：\n",
    "\n",
    "|$x_1$|$x_2$|$y$|\n",
    "|----|----|----|\n",
    "|1|1|1|\n",
    "|1|0|0|\n",
    "|0|1|0|\n",
    "|0|0|0|\n",
    "\n",
    "权重更新规则：\n",
    "$$\n",
    "\\begin{equation}\n",
    "\\begin{aligned}\n",
    "\\Delta b_i&=\\delta (y- \\widehat{y}) \\\\\n",
    "\\Delta w_i&=\\delta (y- \\widehat{y})x_i \\\\\n",
    "w_i&=w_i + \\Delta w_i\\\\\n",
    "b_i&=b_i + \\Delta b_i \n",
    "\\end{aligned}\n",
    "\\end{equation}\n",
    "$$\n",
    "\n",
    "其中$\\delta叫学习率$，y为正确的输出，$\\widehat{y}为感知机预测$的结果。\n",
    "\n"
   ]
  },
  {
   "cell_type": "code",
   "execution_count": 1,
   "metadata": {},
   "outputs": [],
   "source": [
    "import numpy as np\n",
    "\n",
    "class Perceptron(object):\n",
    "    def __init__(self, input_feature_num, activation=None):\n",
    "        self.activation = activation if activation else self.sign\n",
    "        self.w = [0.0] * input_feature_num\n",
    "        self.b = 0.0\n",
    "\n",
    "    def sign(self, z):\n",
    "        # 阶跃激活函数:\n",
    "        # sign(z) = 1 if z > 0 \n",
    "        # sign(z) = 0 otherwise\n",
    "        return int(z>0)\n",
    "    \n",
    "    def predict(self, x):\n",
    "        # 预测输出函数\n",
    "        # y_hat = f(wx + b)\n",
    "        return self.activation(\n",
    "            np.dot(self.w, x) + self.b)\n",
    "    \n",
    "    def fit(self, x_train, y_train, iteration=10, learning_rate=0.1):\n",
    "        # 训练函数\n",
    "        for _ in range(iteration):\n",
    "            for x, y in zip(x_train, y_train):\n",
    "                y_hat = self.predict(x)\n",
    "                self._update_weights(x, y, y_hat, learning_rate)\n",
    "        print(self)\n",
    "    \n",
    "    def _update_weights(self, x, y, y_hat, learning_rate):\n",
    "        # 权重更新, 对照公式查看\n",
    "        delta = y - y_hat\n",
    "        self.w = np.add(self.w,\n",
    "                        np.multiply(learning_rate * delta, x))\n",
    "        self.b += learning_rate * delta\n",
    "    \n",
    "    def __str__(self):\n",
    "        return 'weights: {}\\tbias: {}'.format(self.w, self.b)"
   ]
  },
  {
   "cell_type": "code",
   "execution_count": 2,
   "metadata": {},
   "outputs": [],
   "source": [
    "# 数据准备\n",
    "def get_and_training_dataset():\n",
    "    x_train = [[0, 0], [0, 1], [1, 0], [1, 1]]\n",
    "    y_train = [0, 0, 0, 1]\n",
    "    return x_train, y_train"
   ]
  },
  {
   "cell_type": "code",
   "execution_count": 3,
   "metadata": {},
   "outputs": [
    {
     "name": "stdout",
     "output_type": "stream",
     "text": [
      "weights: [ 0.2  0.1]\tbias: -0.2\n"
     ]
    }
   ],
   "source": [
    "# 拟合数据\n",
    "x_train, y_train = get_and_training_dataset()\n",
    "and_p = Perceptron(2)\n",
    "and_p.fit(x_train, y_train, iteration=5, learning_rate=0.1)"
   ]
  },
  {
   "cell_type": "code",
   "execution_count": 4,
   "metadata": {},
   "outputs": [
    {
     "name": "stdout",
     "output_type": "stream",
     "text": [
      "and 感知机权重:\n",
      " weights: [ 0.2  0.1]\tbias: -0.2 \n",
      "\n",
      "1 & 1 = 1\n",
      "1 & 0 = 0\n",
      "0 & 1 = 0\n",
      "0 & 0 = 0\n"
     ]
    }
   ],
   "source": [
    "# 预测数据\n",
    "print('and 感知机权重:\\n', and_p, '\\n')\n",
    "print('1 & 1 = %d' % and_p.predict([1, 1]))\n",
    "print('1 & 0 = %d' % and_p.predict([1, 0]))\n",
    "print('0 & 1 = %d' % and_p.predict([0, 1]))\n",
    "print('0 & 0 = %d' % and_p.predict([0, 0]))"
   ]
  },
  {
   "cell_type": "markdown",
   "metadata": {},
   "source": [
    "### 二、作业：Or 感知机\n",
    "\n",
    "Or真值表：\n",
    "\n",
    "|$x_1$|$x_2$|$y$|\n",
    "|----|----|----|\n",
    "|1|1|1|\n",
    "|1|0|1|\n",
    "|0|1|1|\n",
    "|0|0|0|"
   ]
  },
  {
   "cell_type": "code",
   "execution_count": 5,
   "metadata": {},
   "outputs": [],
   "source": [
    "def get_or_training_dataset():\n",
    "    x_train = [[0, 0], [0, 1], [1, 0], [1, 1]]\n",
    "    ## write code here:\n",
    "    y_train = 'write code here'\n",
    "    return x_train, y_train"
   ]
  },
  {
   "cell_type": "code",
   "execution_count": 6,
   "metadata": {},
   "outputs": [],
   "source": [
    "# x_train, y_train = get_or_training_dataset()\n",
    "# or_p = Perceptron(2)\n",
    "# or_p.fit(x_train, y_train, iteration=5, learning_rate=0.1)\n",
    "# print(x_train, y_train)"
   ]
  },
  {
   "cell_type": "code",
   "execution_count": 7,
   "metadata": {},
   "outputs": [],
   "source": [
    "# print('or 感知机权重:\\n', or_p, '\\n')\n",
    "# print('1 & 1 = %d' % or_p.predict([1, 1]))\n",
    "# print('1 & 0 = %d' % or_p.predict([1, 0]))\n",
    "# print('0 & 1 = %d' % or_p.predict([0, 1]))\n",
    "# print('0 & 0 = %d' % or_p.predict([0, 0]))"
   ]
  },
  {
   "cell_type": "code",
   "execution_count": null,
   "metadata": {},
   "outputs": [],
   "source": []
  }
 ],
 "metadata": {
  "kernelspec": {
   "display_name": "Python 3",
   "language": "python",
   "name": "python3"
  },
  "language_info": {
   "codemirror_mode": {
    "name": "ipython",
    "version": 3
   },
   "file_extension": ".py",
   "mimetype": "text/x-python",
   "name": "python",
   "nbconvert_exporter": "python",
   "pygments_lexer": "ipython3",
   "version": "3.6.4"
  }
 },
 "nbformat": 4,
 "nbformat_minor": 2
}
