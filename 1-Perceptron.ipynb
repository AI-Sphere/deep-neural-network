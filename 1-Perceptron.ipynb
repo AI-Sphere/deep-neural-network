{
 "cells": [
  {
   "cell_type": "markdown",
   "metadata": {},
   "source": [
    "## $$And 感知机$$\n",
    "And真值表：\n",
    "\n",
    "|$x_1$|$x_2$|$y$|\n",
    "|----|----|----|\n",
    "|1|1|1|\n",
    "|1|0|0|\n",
    "|0|1|0|\n",
    "|0|0|0|"
   ]
  },
  {
   "cell_type": "code",
   "execution_count": 1,
   "metadata": {},
   "outputs": [],
   "source": [
    "import numpy as np\n",
    "\n",
    "class Perceptron(object):\n",
    "    def __init__(self, input_feature_num):\n",
    "        self.w = [0.0] * input_feature_num\n",
    "        self.b = 0.0\n",
    "\n",
    "    def sign(self, z):\n",
    "        # 阶跃激活函数:\n",
    "        # sign(z) = 1 if z > 0 \n",
    "        # sign(z) = 0 otherwise\n",
    "        return int(z>0)\n",
    "    \n",
    "    def predict(self, x):\n",
    "        # y_hat = sign(wx + b)\n",
    "        return self.sign(\n",
    "            np.dot(self.w, x) + self.b)\n",
    "    \n",
    "    def fit(self, x_train, y_train, iteration, learning_rate):\n",
    "        for _ in range(iteration):\n",
    "            for x, y in zip(x_train, y_train):\n",
    "                y_hat = self.predict(x)\n",
    "                self._update_weights(x, y_hat, y, learning_rate)\n",
    "    \n",
    "    def _update_weights(self, x, y_hat, y, learning_rate):\n",
    "        # 权重更新, 对照公式查看\n",
    "        delta = y - y_hat\n",
    "        self.w = np.add(self.w,\n",
    "                        np.multiply(learning_rate * delta, x))\n",
    "        self.b += learning_rate * delta\n",
    "    \n",
    "    def __str__(self):\n",
    "        return 'weights: {}\\tbias: {}'.format(self.w, self.b)"
   ]
  },
  {
   "cell_type": "code",
   "execution_count": 2,
   "metadata": {},
   "outputs": [],
   "source": [
    "# 数据准备\n",
    "def get_and_training_dataset():\n",
    "    x_train = [[0, 0], [0, 1], [1, 0], [1, 1]]\n",
    "    y_train = [0, 0, 0, 1]\n",
    "    return x_train, y_train"
   ]
  },
  {
   "cell_type": "code",
   "execution_count": 3,
   "metadata": {},
   "outputs": [],
   "source": [
    "# 拟合数据\n",
    "x_train, y_train = get_and_training_dataset()\n",
    "and_p = Perceptron(2)\n",
    "and_p.fit(x_train, y_train, iteration=5, learning_rate=0.1)"
   ]
  },
  {
   "cell_type": "code",
   "execution_count": 4,
   "metadata": {},
   "outputs": [
    {
     "name": "stdout",
     "output_type": "stream",
     "text": [
      "and 感知机权重:\n",
      " weights: [ 0.2  0.1]\tbias: -0.2 \n",
      "\n",
      "1 & 1 = 1\n",
      "1 & 0 = 0\n",
      "0 & 1 = 0\n",
      "0 & 0 = 0\n"
     ]
    }
   ],
   "source": [
    "# 预测数据\n",
    "print('and 感知机权重:\\n', and_p, '\\n')\n",
    "print('1 & 1 = %d' % and_p.predict([1, 1]))\n",
    "print('1 & 0 = %d' % and_p.predict([1, 0]))\n",
    "print('0 & 1 = %d' % and_p.predict([0, 1]))\n",
    "print('0 & 0 = %d' % and_p.predict([0, 0]))"
   ]
  },
  {
   "cell_type": "markdown",
   "metadata": {},
   "source": [
    "## $$作业：Or 感知机$$\n",
    "\n",
    "Or真值表：\n",
    "\n",
    "|$x_1$|$x_2$|$y$|\n",
    "|----|----|----|\n",
    "|1|1|1|\n",
    "|1|0|1|\n",
    "|0|1|1|\n",
    "|0|0|0|"
   ]
  },
  {
   "cell_type": "code",
   "execution_count": 6,
   "metadata": {},
   "outputs": [
    {
     "ename": "SyntaxError",
     "evalue": "invalid syntax (<ipython-input-6-4e1d7b47921f>, line 4)",
     "output_type": "error",
     "traceback": [
      "\u001b[0;36m  File \u001b[0;32m\"<ipython-input-6-4e1d7b47921f>\"\u001b[0;36m, line \u001b[0;32m4\u001b[0m\n\u001b[0;31m    y_train = ???\u001b[0m\n\u001b[0m              ^\u001b[0m\n\u001b[0;31mSyntaxError\u001b[0m\u001b[0;31m:\u001b[0m invalid syntax\n"
     ]
    }
   ],
   "source": [
    "def get_or_training_dataset():\n",
    "    x_train = [[0, 0], [0, 1], [1, 0], [1, 1]]\n",
    "    ## write code here:\n",
    "    y_train = ???\n",
    "    return x_train, y_train"
   ]
  },
  {
   "cell_type": "code",
   "execution_count": 24,
   "metadata": {},
   "outputs": [
    {
     "name": "stdout",
     "output_type": "stream",
     "text": [
      "[[0, 0], [0, 1], [1, 0], [1, 1]] [0, 1, 1, 1]\n"
     ]
    }
   ],
   "source": [
    "x_train, y_train = get_or_training_dataset()\n",
    "or_p = Perceptron(2)\n",
    "or_p.fit(x_train, y_train, iteration=5, learning_rate=0.1)\n",
    "print(x_train, y_train)"
   ]
  },
  {
   "cell_type": "code",
   "execution_count": 23,
   "metadata": {},
   "outputs": [
    {
     "name": "stdout",
     "output_type": "stream",
     "text": [
      "or 感知机权重:\n",
      " weights: [ 0.1  0.1]\tbias: 0.0 \n",
      "\n",
      "1 & 1 = 1\n",
      "1 & 0 = 1\n",
      "0 & 1 = 1\n",
      "0 & 0 = 0\n"
     ]
    }
   ],
   "source": [
    "print('or 感知机权重:\\n', or_p, '\\n')\n",
    "print('1 & 1 = %d' % or_p.predict([1, 1]))\n",
    "print('1 & 0 = %d' % or_p.predict([1, 0]))\n",
    "print('0 & 1 = %d' % or_p.predict([0, 1]))\n",
    "print('0 & 0 = %d' % or_p.predict([0, 0]))"
   ]
  },
  {
   "cell_type": "code",
   "execution_count": null,
   "metadata": {},
   "outputs": [],
   "source": []
  }
 ],
 "metadata": {
  "kernelspec": {
   "display_name": "Python 3",
   "language": "python",
   "name": "python3"
  },
  "language_info": {
   "codemirror_mode": {
    "name": "ipython",
    "version": 3
   },
   "file_extension": ".py",
   "mimetype": "text/x-python",
   "name": "python",
   "nbconvert_exporter": "python",
   "pygments_lexer": "ipython3",
   "version": "3.6.4"
  }
 },
 "nbformat": 4,
 "nbformat_minor": 2
}
